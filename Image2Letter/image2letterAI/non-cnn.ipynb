{
 "cells": [
  {
   "cell_type": "code",
   "execution_count": 1,
   "metadata": {},
   "outputs": [
    {
     "name": "stderr",
     "output_type": "stream",
     "text": [
      "/home/peter/repositories/Typewriter/Image2Letter/.venv/lib64/python3.11/site-packages/pydantic/_internal/_fields.py:127: UserWarning: Field \"model_server_url\" has conflict with protected namespace \"model_\".\n",
      "\n",
      "You may be able to resolve this warning by setting `model_config['protected_namespaces'] = ()`.\n",
      "  warnings.warn(\n",
      "/home/peter/repositories/Typewriter/Image2Letter/.venv/lib64/python3.11/site-packages/pydantic/_internal/_config.py:269: UserWarning: Valid config keys have changed in V2:\n",
      "* 'schema_extra' has been renamed to 'json_schema_extra'\n",
      "  warnings.warn(message, UserWarning)\n"
     ]
    }
   ],
   "source": [
    "import torch.nn as nn\n",
    "import torch\n",
    "import pytorch_lightning as pl\n",
    "from utils import  get_sobel_kernel, get_gaussian_kernel, load_letter_conv_weights\n",
    "from models import CustomTransposedConv2d\n",
    "\n",
    "class LetterFilter(pl.LightningModule):\n",
    "    def __init__(self,config):\n",
    "        super().__init__()\n",
    "        self.device = config[\"device\"]\n",
    "        letter_conv_k = config[\"letter_conv_k\"]\n",
    "        letter_conv_stride = config[\"letter_conv_stride\"]\n",
    "        sobel_k = config[\"sobel_k\"]\n",
    "        gauss_sig = config[\"gauss_sig\"]\n",
    "        font_path = config[\"font_path\"]\n",
    "        letters = config[\"letters\"]\n",
    "        gauss_k = letter_conv_k\n",
    "\n",
    "        self.letter_size_weight = config[\"letter_size_weight\"]\n",
    "        self.detail_weight = config[\"detail_weight\"]\n",
    "\n",
    "        # sobel edge filter\n",
    "        sobel_2D = get_sobel_kernel(sobel_k)\n",
    "        self.sobel_filter_x = nn.Conv2d(in_channels=1,\n",
    "                                        out_channels=1,\n",
    "                                        kernel_size=sobel_k,\n",
    "                                        padding=sobel_k // 2,\n",
    "                                        bias=False)\n",
    "        self.sobel_filter_x.weight[:] = torch.from_numpy(sobel_2D)\n",
    "\n",
    "\n",
    "        self.sobel_filter_y = nn.Conv2d(in_channels=1,\n",
    "                                        out_channels=1,\n",
    "                                        kernel_size=sobel_k,\n",
    "                                        padding=sobel_k // 2,\n",
    "                                        bias=False)\n",
    "        self.sobel_filter_y.weight[:] = torch.from_numpy(sobel_2D.T)\n",
    "\n",
    "        #gaussian fitler after sobel\n",
    "        gaussian_2D = get_gaussian_kernel(gauss_k, 0, gauss_sig)\n",
    "        self.gaussian_filter = nn.Conv2d(in_channels=1,\n",
    "                                         out_channels=1,\n",
    "                                         kernel_size=gauss_k,\n",
    "                                         stride=letter_conv_stride,\n",
    "                                         padding=gauss_k // 2,\n",
    "                                         bias=False)\n",
    "        self.gaussian_filter.weight[:] = torch.from_numpy(gaussian_2D)\n",
    "\n",
    "        # transposed convs for mask\n",
    "        transposed_convs_weights = load_letter_conv_weights(font_path, letter_conv_k, letters)\n",
    "        transposed_padding = \n",
    "        self.transp_conv = CustomTransposedConv2d(transposed_convs_weights, transposed_convs_weights.shape[0], 1, letter_conv_k, letter_conv_stride, transposed_padding)\n",
    "        \n",
    "\n",
    "\n",
    "\n",
    "\n"
   ]
  }
 ],
 "metadata": {
  "kernelspec": {
   "display_name": ".venv",
   "language": "python",
   "name": "python3"
  },
  "language_info": {
   "codemirror_mode": {
    "name": "ipython",
    "version": 3
   },
   "file_extension": ".py",
   "mimetype": "text/x-python",
   "name": "python",
   "nbconvert_exporter": "python",
   "pygments_lexer": "ipython3",
   "version": "3.11.3"
  },
  "orig_nbformat": 4
 },
 "nbformat": 4,
 "nbformat_minor": 2
}
